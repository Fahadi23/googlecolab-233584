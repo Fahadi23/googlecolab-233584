{
  "nbformat": 4,
  "nbformat_minor": 0,
  "metadata": {
    "colab": {
      "provenance": [],
      "authorship_tag": "ABX9TyNy8F1GUOfESPaJqEKlSUDr",
      "include_colab_link": true
    },
    "kernelspec": {
      "name": "python3",
      "display_name": "Python 3"
    },
    "language_info": {
      "name": "python"
    }
  },
  "cells": [
    {
      "cell_type": "markdown",
      "metadata": {
        "id": "view-in-github",
        "colab_type": "text"
      },
      "source": [
        "<a href=\"https://colab.research.google.com/github/Fahadi23/googlecolab-233584/blob/main/233584_Lab_1_of_AI.ipynb\" target=\"_parent\"><img src=\"https://colab.research.google.com/assets/colab-badge.svg\" alt=\"Open In Colab\"/></a>"
      ]
    },
    {
      "cell_type": "code",
      "execution_count": 41,
      "metadata": {
        "colab": {
          "base_uri": "https://localhost:8080/"
        },
        "id": "znJzNnvc5RYp",
        "outputId": "c631a73f-d2fb-4641-a022-fd9257f36c54"
      },
      "outputs": [
        {
          "output_type": "stream",
          "name": "stdout",
          "text": [
            "Python 3.12.11\n"
          ]
        }
      ],
      "source": [
        "! python --version\n",
        "\n"
      ]
    },
    {
      "cell_type": "markdown",
      "source": [
        " 1. Write a program to check if a number is prime."
      ],
      "metadata": {
        "id": "LYj01kXhKQvJ"
      }
    },
    {
      "cell_type": "code",
      "source": [
        "def is_prime(n):\n",
        "    if n <= 1:\n",
        "        return False\n",
        "    for i in range(2, int(n**0.5) + 1):\n",
        "        if n % i == 0:\n",
        "            return False\n",
        "    return True\n",
        "\n",
        "# Example test\n",
        "num = 20\n",
        "print(f\"Is {num} prime? ->\", is_prime(num))"
      ],
      "metadata": {
        "colab": {
          "base_uri": "https://localhost:8080/"
        },
        "id": "z63uPo7JKbZx",
        "outputId": "83524693-c846-4786-cedf-0a44bfeb8653"
      },
      "execution_count": 44,
      "outputs": [
        {
          "output_type": "stream",
          "name": "stdout",
          "text": [
            "Is 20 prime? -> False\n"
          ]
        }
      ]
    },
    {
      "cell_type": "markdown",
      "source": [
        "2. Create a list of 10 numbers and print their average."
      ],
      "metadata": {
        "id": "8pwmDnotKrtA"
      }
    },
    {
      "cell_type": "code",
      "source": [
        "numbers = [5, 10, 15, 20, 25, 30, 35, 40, 45, 50]\n",
        "average = sum(numbers) / len(numbers)\n",
        "print(\"Numbers:\", numbers)\n",
        "print(\"Average:\", average)"
      ],
      "metadata": {
        "colab": {
          "base_uri": "https://localhost:8080/"
        },
        "id": "XpqHueR9KsJZ",
        "outputId": "5d791741-345c-42ba-e4f2-f746c53d9842"
      },
      "execution_count": 45,
      "outputs": [
        {
          "output_type": "stream",
          "name": "stdout",
          "text": [
            "Numbers: [5, 10, 15, 20, 25, 30, 35, 40, 45, 50]\n",
            "Average: 27.5\n"
          ]
        }
      ]
    },
    {
      "cell_type": "markdown",
      "source": [
        "3. Store student names and marks in a dictionary and display the topper."
      ],
      "metadata": {
        "id": "VoRBN4LCLAY2"
      }
    },
    {
      "cell_type": "code",
      "source": [
        "students = {\n",
        "    \"Alice\": 88,\n",
        "    \"Bob\": 92,\n",
        "    \"Charlie\": 79,\n",
        "    \"David\": 95,\n",
        "    \"Eve\": 91\n",
        "}\n",
        "\n",
        "topper = max(students, key=students.get)\n",
        "print(\"Students and marks:\", students)\n",
        "print(\"Topper:\", topper, \"with marks\", students[topper])"
      ],
      "metadata": {
        "colab": {
          "base_uri": "https://localhost:8080/"
        },
        "id": "0MF6gUBmLA4v",
        "outputId": "ead76944-24f7-4243-c55a-bcc408a3fdeb"
      },
      "execution_count": 46,
      "outputs": [
        {
          "output_type": "stream",
          "name": "stdout",
          "text": [
            "Students and marks: {'Alice': 88, 'Bob': 92, 'Charlie': 79, 'David': 95, 'Eve': 91}\n",
            "Topper: David with marks 95\n"
          ]
        }
      ]
    },
    {
      "cell_type": "markdown",
      "source": [
        "4. Demonstrate set operations: union, intersection, difference."
      ],
      "metadata": {
        "id": "QvAvv7zELjQz"
      }
    },
    {
      "cell_type": "code",
      "source": [
        "set1 = {1, 2, 3, 4, 5}\n",
        "set2 = {4, 5, 6, 7, 8}\n",
        "\n",
        "print(\"Set 1:\", set1)\n",
        "print(\"Set 2:\", set2)\n",
        "print(\"Union:\", set1 | set2)\n",
        "print(\"Intersection:\", set1 & set2)\n",
        "print(\"Difference (set1 - set2):\", set1 - set2)\n",
        "print(\"Difference (set2 - set1):\", set2 - set1)"
      ],
      "metadata": {
        "colab": {
          "base_uri": "https://localhost:8080/"
        },
        "id": "LrzlY7rDLjtz",
        "outputId": "992417fc-b763-4216-b674-85c02d4ca701"
      },
      "execution_count": 47,
      "outputs": [
        {
          "output_type": "stream",
          "name": "stdout",
          "text": [
            "Set 1: {1, 2, 3, 4, 5}\n",
            "Set 2: {4, 5, 6, 7, 8}\n",
            "Union: {1, 2, 3, 4, 5, 6, 7, 8}\n",
            "Intersection: {4, 5}\n",
            "Difference (set1 - set2): {1, 2, 3}\n",
            "Difference (set2 - set1): {8, 6, 7}\n"
          ]
        }
      ]
    },
    {
      "cell_type": "markdown",
      "source": [
        "5. Write a function to compute factorial using recursion."
      ],
      "metadata": {
        "id": "Qe8SWD4cMIgK"
      }
    },
    {
      "cell_type": "code",
      "source": [
        "def factorial(n):\n",
        "    if n == 0 or n == 1:\n",
        "        return 1\n",
        "    return n * factorial(n - 1)\n",
        "\n",
        "num = 6\n",
        "print(f\"Factorial of {num} is\", factorial(num))"
      ],
      "metadata": {
        "colab": {
          "base_uri": "https://localhost:8080/"
        },
        "id": "hQ_V2Zy5MMDB",
        "outputId": "8eb9d23f-2513-4670-8b5c-7e43d128de81"
      },
      "execution_count": 48,
      "outputs": [
        {
          "output_type": "stream",
          "name": "stdout",
          "text": [
            "Factorial of 6 is 720\n"
          ]
        }
      ]
    },
    {
      "cell_type": "markdown",
      "source": [
        "6. Use a for loop to print the Fibonacci series up to n terms."
      ],
      "metadata": {
        "id": "bkhS2gAdMQs5"
      }
    },
    {
      "cell_type": "code",
      "source": [
        "n = 10  # number of terms\n",
        "a, b = 0, 1\n",
        "\n",
        "print(\"Fibonacci series up to\", n, \"terms:\")\n",
        "for _ in range(n):\n",
        "    print(a, end=\" \")\n",
        "    a, b = b, a + b"
      ],
      "metadata": {
        "colab": {
          "base_uri": "https://localhost:8080/"
        },
        "id": "_vVxEMEwMY8R",
        "outputId": "42a67896-463c-4f36-c345-1b4b52d04b93"
      },
      "execution_count": 49,
      "outputs": [
        {
          "output_type": "stream",
          "name": "stdout",
          "text": [
            "Fibonacci series up to 10 terms:\n",
            "0 1 1 2 3 5 8 13 21 34 "
          ]
        }
      ]
    },
    {
      "cell_type": "markdown",
      "source": [
        "7. Read a string and count the number of vowels."
      ],
      "metadata": {
        "id": "5CG644nQMim5"
      }
    },
    {
      "cell_type": "code",
      "source": [
        "text = \"Google Colab makes Python super handy\"\n",
        "vowels = \"aeiouAEIOU\"\n",
        "count = sum(1 for char in text if char in vowels)\n",
        "\n",
        "print(\"Input string:\", text)\n",
        "print(\"Number of vowels:\", count)"
      ],
      "metadata": {
        "colab": {
          "base_uri": "https://localhost:8080/"
        },
        "id": "AGw03H_4MlpZ",
        "outputId": "35688a55-a485-4c33-e66f-32e8de011b3f"
      },
      "execution_count": 51,
      "outputs": [
        {
          "output_type": "stream",
          "name": "stdout",
          "text": [
            "Input string: Google Colab makes Python super handy\n",
            "Number of vowels: 11\n"
          ]
        }
      ]
    },
    {
      "cell_type": "markdown",
      "source": [
        "8. Create a tuple of numbers and find the maximum and minimum."
      ],
      "metadata": {
        "id": "dY-fhk9TM-fh"
      }
    },
    {
      "cell_type": "code",
      "source": [
        "numbers_tuple = (12, 45, 67, 2, 34, 89, 23)\n",
        "print(\"Numbers in tuple:\", numbers_tuple)\n",
        "print(\"Maximum:\", max(numbers_tuple))\n",
        "print(\"Minimum:\", min(numbers_tuple))"
      ],
      "metadata": {
        "colab": {
          "base_uri": "https://localhost:8080/"
        },
        "id": "W0f45ixbNF2J",
        "outputId": "79cde797-13ed-486d-82f3-88afbcd9647c"
      },
      "execution_count": 52,
      "outputs": [
        {
          "output_type": "stream",
          "name": "stdout",
          "text": [
            "Numbers in tuple: (12, 45, 67, 2, 34, 89, 23)\n",
            "Maximum: 89\n",
            "Minimum: 2\n"
          ]
        }
      ]
    },
    {
      "cell_type": "markdown",
      "source": [
        "9. Create a program that asks for user input and reverses the string."
      ],
      "metadata": {
        "id": "oFmpemnoNNLp"
      }
    },
    {
      "cell_type": "code",
      "source": [
        "user_input = input(\"Enter a string: \")\n",
        "reversed_string = user_input[::-1]\n",
        "print(\"Reversed string:\", reversed_string)"
      ],
      "metadata": {
        "colab": {
          "base_uri": "https://localhost:8080/"
        },
        "id": "KnJGL4-2NXzZ",
        "outputId": "d13807ce-439d-48ec-f8e2-0b981b8334ab"
      },
      "execution_count": 56,
      "outputs": [
        {
          "output_type": "stream",
          "name": "stdout",
          "text": [
            "Enter a string: Alwaz Siddque\n",
            "Reversed string: euqddiS zawlA\n"
          ]
        }
      ]
    },
    {
      "cell_type": "markdown",
      "source": [
        "Activity-1"
      ],
      "metadata": {
        "id": "wKn_3ATdRsv1"
      }
    },
    {
      "cell_type": "code",
      "source": [
        "print(1 + 3)\n",
        "print(10 / 2)\n",
        "print(5 ** 2)"
      ],
      "metadata": {
        "colab": {
          "base_uri": "https://localhost:8080/"
        },
        "id": "je6rbCRnR80W",
        "outputId": "da939dec-2de3-4f4d-cded-beac2173837b"
      },
      "execution_count": 57,
      "outputs": [
        {
          "output_type": "stream",
          "name": "stdout",
          "text": [
            "4\n",
            "5.0\n",
            "25\n"
          ]
        }
      ]
    },
    {
      "cell_type": "markdown",
      "source": [
        "Activity-2"
      ],
      "metadata": {
        "id": "F3wmiw0WSSUc"
      }
    },
    {
      "cell_type": "code",
      "source": [
        "print(\"python\" + \" basics\")\n",
        "print(\"AI \" * 3)"
      ],
      "metadata": {
        "colab": {
          "base_uri": "https://localhost:8080/"
        },
        "id": "1AruuRezSS_s",
        "outputId": "cad767d8-d5a1-4129-8190-bd4aa198b602"
      },
      "execution_count": 58,
      "outputs": [
        {
          "output_type": "stream",
          "name": "stdout",
          "text": [
            "python basics\n",
            "AI AI AI \n"
          ]
        }
      ]
    },
    {
      "cell_type": "markdown",
      "source": [
        "Activity-3"
      ],
      "metadata": {
        "id": "L0RWYOYqSbld"
      }
    },
    {
      "cell_type": "code",
      "source": [
        "fruit = \"apple\"\n",
        "print(fruit)\n",
        "fruit = 17\n",
        "print(fruit)\n",
        "x = str(3); y = int(3); z = float(3)\n",
        "print(type(x), type(y), type(z))"
      ],
      "metadata": {
        "colab": {
          "base_uri": "https://localhost:8080/"
        },
        "id": "NMsR1rNYSdmd",
        "outputId": "558ddb1e-d1e7-4fbf-cdfe-3febed7481d9"
      },
      "execution_count": 59,
      "outputs": [
        {
          "output_type": "stream",
          "name": "stdout",
          "text": [
            "apple\n",
            "17\n",
            "<class 'str'> <class 'int'> <class 'float'>\n"
          ]
        }
      ]
    },
    {
      "cell_type": "markdown",
      "source": [
        "Activity-4"
      ],
      "metadata": {
        "id": "XfcD_xdgSkNl"
      }
    },
    {
      "cell_type": "code",
      "source": [
        "# Step 1: Create a list with different data types (string, float, string,integer)\n",
        "mylist = [\"apple\", 34.5, \"banana\", 9]\n",
        "\n",
        "# Step 2: Print the entire list to verify its contents\n",
        "print(\"Complete list:\", mylist)\n",
        "\n",
        "# Step 3: Access and print the first element (index 0)\n",
        "print(\"First element:\", mylist[0])\n",
        "\n",
        "# Step 4: Access and print the last element using negative indexing\n",
        "\n",
        "print(\"Last element:\", mylist[-1])\n",
        "\n",
        "\n",
        "\n",
        "# Step 6: Extract and print every second element using step in slicing\n",
        "print(\"Every second element:\", mylist[::2])\n",
        "\n",
        "# Step 8: Append a new item to the list\n",
        "mylist.append(\"grape\")\n",
        "print(\"List after appending 'grape':\", mylist)\n",
        "\n",
        "# Step 9: Remove a specific item from the list\n",
        "mylist.remove(\"banana\")\n",
        "print(\"List after removing 'banana':\", mylist)\n",
        "\n",
        "# Step 10: Replace the value at index 1 with a new value\n",
        "mylist[1] = 99.9\n",
        "print(\"List after updating index 1:\", mylist)"
      ],
      "metadata": {
        "colab": {
          "base_uri": "https://localhost:8080/"
        },
        "id": "2pnHGdS8Soij",
        "outputId": "8ae4711b-8ce0-4b82-f560-eb4be762ecf1"
      },
      "execution_count": 60,
      "outputs": [
        {
          "output_type": "stream",
          "name": "stdout",
          "text": [
            "Complete list: ['apple', 34.5, 'banana', 9]\n",
            "First element: apple\n",
            "Last element: 9\n",
            "Every second element: ['apple', 'banana']\n",
            "List after appending 'grape': ['apple', 34.5, 'banana', 9, 'grape']\n",
            "List after removing 'banana': ['apple', 34.5, 9, 'grape']\n",
            "List after updating index 1: ['apple', 99.9, 9, 'grape']\n"
          ]
        }
      ]
    },
    {
      "cell_type": "markdown",
      "source": [
        "Activity-5"
      ],
      "metadata": {
        "id": "1w3MKrnHS3-I"
      }
    },
    {
      "cell_type": "code",
      "source": [
        "# Step 1: Create a dictionary with key–value pairs\n",
        "car = {\"brand\": \"Ford\", \"model\": \"Mustang\", \"year\": 1964}\n",
        "print(\"Initial dictionary:\", car)\n",
        "\n",
        "# Step 2: Access the value of a specific key\n",
        "print(\"Model of the car:\", car[\"model\"])\n",
        "\n",
        "# Step 3: Update the value of an existing key\n",
        "car[\"year\"] = 2024\n",
        "print(\"After updating 'year':\", car)\n",
        "\n",
        "# Step 4: Add a new key–value pair\n",
        "car[\"color\"] = \"red\"\n",
        "print(\"After adding a new key 'color':\", car)\n",
        "\n",
        "# Step 5: Remove a specific key–value pair using pop()\n",
        "removed_value = car.pop(\"model\")\n",
        "print(\"Removed 'model' key with value:\", removed_value)\n",
        "print(\"Dictionary after pop operation:\", car)\n",
        "\n",
        "# Step 6: Remove the last inserted key–value pair using popitem()\n",
        "last_item = car.popitem()\n",
        "print(\"Removed the last inserted item:\", last_item)\n",
        "print(\"Dictionary after popitem:\", car)\n",
        "\n",
        "# Step 7: Get a value safely using get() (avoids error if key not found)\n",
        "print(\"Get 'brand' safely:\", car.get(\"brand\"))\n",
        "print(\"Get non-existing key safely (returns None):\", car.get(\"engine\"))\n",
        "\n",
        "# Step 9: View all keys, values, and key–value pairs\n",
        "print(\"All keys:\", car.keys())\n",
        "print(\"All values:\", car.values())\n",
        "print(\"All items (key–value pairs):\", car.items())\n",
        "\n",
        "# Step 10: Create a shallow copy of the dictionary\n",
        "\n",
        "car_copy = car.copy()\n",
        "print(\"Shallow copy of dictionary:\", car_copy)\n",
        "\n",
        "# Step 11: Clear all elements from the dictionary\n",
        "car.clear()\n",
        "print(\"Dictionary after clearing all items:\", car)"
      ],
      "metadata": {
        "colab": {
          "base_uri": "https://localhost:8080/"
        },
        "id": "JjbSFmG9S6AI",
        "outputId": "3199c4bb-89f4-4c78-9e82-ca055e64c837"
      },
      "execution_count": 61,
      "outputs": [
        {
          "output_type": "stream",
          "name": "stdout",
          "text": [
            "Initial dictionary: {'brand': 'Ford', 'model': 'Mustang', 'year': 1964}\n",
            "Model of the car: Mustang\n",
            "After updating 'year': {'brand': 'Ford', 'model': 'Mustang', 'year': 2024}\n",
            "After adding a new key 'color': {'brand': 'Ford', 'model': 'Mustang', 'year': 2024, 'color': 'red'}\n",
            "Removed 'model' key with value: Mustang\n",
            "Dictionary after pop operation: {'brand': 'Ford', 'year': 2024, 'color': 'red'}\n",
            "Removed the last inserted item: ('color', 'red')\n",
            "Dictionary after popitem: {'brand': 'Ford', 'year': 2024}\n",
            "Get 'brand' safely: Ford\n",
            "Get non-existing key safely (returns None): None\n",
            "All keys: dict_keys(['brand', 'year'])\n",
            "All values: dict_values(['Ford', 2024])\n",
            "All items (key–value pairs): dict_items([('brand', 'Ford'), ('year', 2024)])\n",
            "Shallow copy of dictionary: {'brand': 'Ford', 'year': 2024}\n",
            "Dictionary after clearing all items: {}\n"
          ]
        }
      ]
    },
    {
      "cell_type": "markdown",
      "source": [
        "Activity-6"
      ],
      "metadata": {
        "id": "eFMwJAzmTG23"
      }
    },
    {
      "cell_type": "code",
      "source": [
        "# Step 1: Create a set with unique string elements\n",
        "thisset = {\"apple\", \"banana\", \"cherry\"}\n",
        "print(\"Initial set:\", thisset) # Sets are unordered, so order may differ\n",
        "\n",
        "# Step 2: Create a mixed-type set (strings, numbers, booleans)\n",
        "set1 = {\"abc\", 34, True, 40, \"male\"}\n",
        "print(\"Mixed-type set:\", set1)\n",
        "\n",
        "# Step 3: Add a single new element to a set\n",
        "thisset.add(\"orange\")\n",
        "\n",
        "print(\"After adding 'orange':\", thisset)\n",
        "\n",
        "# Step 4: Add multiple elements at once using update()\n",
        "thisset.update([\"grape\", \"mango\"])\n",
        "print(\"After adding multiple elements:\", thisset)\n",
        "\n",
        "# Step 5: Remove a specific element using remove()\n",
        "# (Raises an error if element does not exist)\n",
        "thisset.remove(\"banana\")\n",
        "print(\"After removing 'banana':\", thisset)\n",
        "# Step 6: Remove an element safely using discard() (no error if not present)\n",
        "thisset.discard(\"papaya\")\n",
        "print(\"After attempting to discard 'papaya' (not present):\", thisset)\n",
        "# Step 7: Remove and return an arbitrary element using pop()\n",
        "removed_item = thisset.pop()\n",
        "print(\"Removed an arbitrary element:\", removed_item)\n",
        "print(\"Set after pop operation:\", thisset)\n",
        "\n",
        "# Step 8: Check membership of an element\n",
        "print(\"Is 'apple' in the set?\", \"apple\" in thisset)\n",
        "\n",
        "# Step 9: Perform set union (all unique elements from both sets)\n",
        "union_set = thisset.union(set1)\n",
        "\n",
        "print(\"Union of thisset and set1:\", union_set)\n",
        "\n",
        "# Step 10: Perform set intersection (common elements in both sets)\n",
        "intersection_set = thisset.intersection(set1)\n",
        "print(\"Intersection of thisset and set1:\", intersection_set)\n",
        "\n",
        "# Step 11: Perform set difference (elements only in thisset)\n",
        "difference_set = thisset.difference(set1)\n",
        "print(\"Difference (thisset - set1):\", difference_set)\n",
        "\n",
        "# Step 12: Create a shallow copy of the set\n",
        "copy_set = thisset.copy()\n",
        "print(\"Copy of the set:\", copy_set)\n",
        "\n",
        "# Step 13: Clear all elements from the set\n",
        "thisset.clear()\n",
        "print(\"Set after clearing all elements:\", thisset)"
      ],
      "metadata": {
        "colab": {
          "base_uri": "https://localhost:8080/"
        },
        "id": "lN_2XwytTI3H",
        "outputId": "711d2319-78d9-42cc-b616-9612008f7088"
      },
      "execution_count": 62,
      "outputs": [
        {
          "output_type": "stream",
          "name": "stdout",
          "text": [
            "Initial set: {'cherry', 'apple', 'banana'}\n",
            "Mixed-type set: {True, 34, 40, 'abc', 'male'}\n",
            "After adding 'orange': {'cherry', 'apple', 'orange', 'banana'}\n",
            "After adding multiple elements: {'grape', 'cherry', 'orange', 'mango', 'banana', 'apple'}\n",
            "After removing 'banana': {'grape', 'cherry', 'orange', 'mango', 'apple'}\n",
            "After attempting to discard 'papaya' (not present): {'grape', 'cherry', 'orange', 'mango', 'apple'}\n",
            "Removed an arbitrary element: grape\n",
            "Set after pop operation: {'cherry', 'orange', 'mango', 'apple'}\n",
            "Is 'apple' in the set? True\n",
            "Union of thisset and set1: {True, 34, 'cherry', 'orange', 40, 'abc', 'mango', 'male', 'apple'}\n",
            "Intersection of thisset and set1: set()\n",
            "Difference (thisset - set1): {'orange', 'apple', 'mango', 'cherry'}\n",
            "Copy of the set: {'orange', 'apple', 'mango', 'cherry'}\n",
            "Set after clearing all elements: set()\n"
          ]
        }
      ]
    },
    {
      "cell_type": "markdown",
      "source": [
        "Activity-7"
      ],
      "metadata": {
        "id": "PV5KOfKiTTat"
      }
    },
    {
      "cell_type": "code",
      "source": [
        "thistuple = (\"apple\", \"banana\", \"cherry\")\n",
        "print(thistuple[1])"
      ],
      "metadata": {
        "colab": {
          "base_uri": "https://localhost:8080/"
        },
        "id": "uKFyEm0ATZYM",
        "outputId": "1bf217e7-67b7-4514-d94f-a99fb9372cd0"
      },
      "execution_count": 63,
      "outputs": [
        {
          "output_type": "stream",
          "name": "stdout",
          "text": [
            "banana\n"
          ]
        }
      ]
    },
    {
      "cell_type": "markdown",
      "source": [
        "Activity-8"
      ],
      "metadata": {
        "id": "PKUhX4mMTm8s"
      }
    },
    {
      "cell_type": "code",
      "source": [
        "a, b = 33, 200\n",
        "\n",
        "if b > a:\n",
        "    print(\"b is greater than a\")\n",
        "elif a == b:\n",
        "    print(\"a and b are equal\")\n",
        "else:\n",
        "    print(\"a is greater than b\")"
      ],
      "metadata": {
        "colab": {
          "base_uri": "https://localhost:8080/"
        },
        "id": "NMSvx8yXTpIM",
        "outputId": "5acf9e86-39e5-44af-d6cc-51ff6810012c"
      },
      "execution_count": 64,
      "outputs": [
        {
          "output_type": "stream",
          "name": "stdout",
          "text": [
            "b is greater than a\n"
          ]
        }
      ]
    },
    {
      "cell_type": "markdown",
      "source": [
        "Activity-9"
      ],
      "metadata": {
        "id": "j_6_T3PHUEqU"
      }
    },
    {
      "cell_type": "code",
      "source": [
        "# Step 1: Basic range iteration (prints numbers 0 to 4)\n",
        "for i in range(5):\n",
        "    print(\"Number:\", i)\n",
        "\n",
        "# Step 2: Use a custom start and end (prints numbers 2 to 6)\n",
        "for i in range(2, 7):\n",
        "    print(\"From 2 to 6:\", i)\n",
        "\n",
        "# Step 3: Use a step value (prints even numbers from 0 to 8)\n",
        "for i in range(0, 10, 2):\n",
        "    print(\"Even number:\", i)\n",
        "\n",
        "# Step 4: Iterate in reverse order (prints numbers 5 down to 1)\n",
        "for i in range(5, 0, -1):\n",
        "    print(\"Countdown:\", i)\n",
        "\n",
        "# Step 5: Use range with a list (access both index and value)\n",
        "fruits = [\"apple\", \"banana\", \"cherry\"]\n",
        "for index in range(len(fruits)):\n",
        "    print(\"Index:\", index, \"Fruit:\", fruits[index])\n",
        "\n",
        "# Step 6: Use an if-condition inside the loop (print only odd numbers)\n",
        "for i in range(10):\n",
        "    if i % 2 != 0:\n",
        "        print(\"Odd number:\", i)"
      ],
      "metadata": {
        "colab": {
          "base_uri": "https://localhost:8080/"
        },
        "id": "U7GRIsFtUGhr",
        "outputId": "281d8041-8aa5-4c97-ef17-792b5357f558"
      },
      "execution_count": 65,
      "outputs": [
        {
          "output_type": "stream",
          "name": "stdout",
          "text": [
            "Number: 0\n",
            "Number: 1\n",
            "Number: 2\n",
            "Number: 3\n",
            "Number: 4\n",
            "From 2 to 6: 2\n",
            "From 2 to 6: 3\n",
            "From 2 to 6: 4\n",
            "From 2 to 6: 5\n",
            "From 2 to 6: 6\n",
            "Even number: 0\n",
            "Even number: 2\n",
            "Even number: 4\n",
            "Even number: 6\n",
            "Even number: 8\n",
            "Countdown: 5\n",
            "Countdown: 4\n",
            "Countdown: 3\n",
            "Countdown: 2\n",
            "Countdown: 1\n",
            "Index: 0 Fruit: apple\n",
            "Index: 1 Fruit: banana\n",
            "Index: 2 Fruit: cherry\n",
            "Odd number: 1\n",
            "Odd number: 3\n",
            "Odd number: 5\n",
            "Odd number: 7\n",
            "Odd number: 9\n"
          ]
        }
      ]
    },
    {
      "cell_type": "markdown",
      "source": [
        "Activity-10"
      ],
      "metadata": {
        "id": "W61z1CBzVYz0"
      }
    },
    {
      "cell_type": "code",
      "source": [
        "# Step 1: Basic function with two parameters\n",
        "def my_function(fname, lname):\n",
        "    # Concatenate first and last name and print the full name\n",
        "    print(\"Full name:\", fname + \" \" + lname)\n",
        "\n",
        "# Call the function with two string arguments\n",
        "my_function(\"Emil\", \"Refsnes\")\n",
        "\n",
        "\n",
        "# Step 2: Function with arbitrary positional arguments (*args)\n",
        "def kids_function(*kids):\n",
        "    # *kids collects all arguments into a tuple\n",
        "    # Access the third child (index 2) and print it\n",
        "    print(\"The youngest child is:\", kids[2])\n",
        "\n",
        "# Call the function with three arguments\n",
        "kids_function(\"Emil\", \"Tobias\", \"Linus\")\n",
        "\n",
        "\n",
        "# Step 3: Function with default arguments\n",
        "def greet_user(name=\"Guest\"):\n",
        "    # Prints a greeting, using \"Guest\" if no name is given\n",
        "    print(\"Hello,\", name)\n",
        "\n",
        "greet_user()       # Uses default value\n",
        "greet_user(\"Alice\")  # Uses provided value\n",
        "\n",
        "\n",
        "# Step 4: Function with arbitrary keyword arguments (**kwargs)\n",
        "def describe_pet(**pet_info):\n",
        "    # **pet_info collects keyword arguments into a dictionary\n",
        "    # Access values by their keys\n",
        "    print(\"Pet details:\")\n",
        "    for key, value in pet_info.items():\n",
        "        print(key.capitalize() + \":\", value)\n",
        "\n",
        "# Call the function with keyword arguments\n",
        "describe_pet(type=\"Dog\", name=\"Buddy\", age=5)\n",
        "\n",
        "\n",
        "# Step 5: Function returning a value\n",
        "def add_numbers(a, b):\n",
        "    # Returns the sum of two numbers\n",
        "    return a + b\n",
        "\n",
        "result = add_numbers(10, 20)\n",
        "print(\"Sum of numbers:\", result)"
      ],
      "metadata": {
        "colab": {
          "base_uri": "https://localhost:8080/"
        },
        "id": "ruXcGnzwVb61",
        "outputId": "bcf0aa54-9d0a-4c07-c96c-3face58345d6"
      },
      "execution_count": 66,
      "outputs": [
        {
          "output_type": "stream",
          "name": "stdout",
          "text": [
            "Full name: Emil Refsnes\n",
            "The youngest child is: Linus\n",
            "Hello, Guest\n",
            "Hello, Alice\n",
            "Pet details:\n",
            "Type: Dog\n",
            "Name: Buddy\n",
            "Age: 5\n",
            "Sum of numbers: 30\n"
          ]
        }
      ]
    }
  ]
}