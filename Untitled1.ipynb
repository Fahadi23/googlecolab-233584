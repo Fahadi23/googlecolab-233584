{
  "nbformat": 4,
  "nbformat_minor": 0,
  "metadata": {
    "colab": {
      "provenance": [],
      "authorship_tag": "ABX9TyPqImhPLmEddQU1KqF/Ljy2",
      "include_colab_link": true
    },
    "kernelspec": {
      "name": "python3",
      "display_name": "Python 3"
    },
    "language_info": {
      "name": "python"
    }
  },
  "cells": [
    {
      "cell_type": "markdown",
      "metadata": {
        "id": "view-in-github",
        "colab_type": "text"
      },
      "source": [
        "<a href=\"https://colab.research.google.com/github/Fahadi23/googlecolab-233584/blob/main/Untitled1.ipynb\" target=\"_parent\"><img src=\"https://colab.research.google.com/assets/colab-badge.svg\" alt=\"Open In Colab\"/></a>"
      ]
    },
    {
      "cell_type": "markdown",
      "source": [
        "Task-1\n"
      ],
      "metadata": {
        "id": "nVskcMLv_mKn"
      }
    },
    {
      "cell_type": "code",
      "source": [
        "\n",
        "with open(\"source.txt\", \"w\") as file:\n",
        "    file.write(\"This is my source file.\\nHello from Google Colab!\")\n",
        "\n",
        "with open(\"source.txt\", \"r\") as source:\n",
        "    with open(\"backup.txt\", \"w\") as backup:\n",
        "        backup.write(source.read())\n",
        "\n",
        "print(\"File copied successfully!\")"
      ],
      "metadata": {
        "colab": {
          "base_uri": "https://localhost:8080/"
        },
        "id": "t4dcUAWh_tKO",
        "outputId": "eccf0523-9142-425e-cbe6-436c4801a3d4"
      },
      "execution_count": 8,
      "outputs": [
        {
          "output_type": "stream",
          "name": "stdout",
          "text": [
            "File copied successfully!\n"
          ]
        }
      ]
    },
    {
      "cell_type": "markdown",
      "source": [
        "Task-2"
      ],
      "metadata": {
        "id": "-T_-s_fxAwj3"
      }
    },
    {
      "cell_type": "code",
      "source": [
        "with open(\"sample.txt\", \"w\") as file:\n",
        "    file.write(\"Python makes file handling really simple and powerful.\")\n",
        "with open(\"sample.txt\", \"r\") as file:\n",
        "    content = file.read()\n",
        "    word_count = len(content.split())\n",
        "print(f\"The file contains {word_count} words.\")"
      ],
      "metadata": {
        "colab": {
          "base_uri": "https://localhost:8080/"
        },
        "id": "hnW78KP-Az21",
        "outputId": "5e4cc893-55be-4d19-ff72-24548fbbca97"
      },
      "execution_count": 9,
      "outputs": [
        {
          "output_type": "stream",
          "name": "stdout",
          "text": [
            "The file contains 8 words.\n"
          ]
        }
      ]
    },
    {
      "cell_type": "markdown",
      "source": [
        "Task-3"
      ],
      "metadata": {
        "id": "tvURHd2TBIZF"
      }
    },
    {
      "cell_type": "code",
      "source": [
        "filename = input(\"Enter the filename: \")\n",
        "\n",
        "try:\n",
        "    with open(filename, \"r\") as file:\n",
        "        print(\"File content:\\n\", file.read())\n",
        "except FileNotFoundError:\n",
        "    print(\"File not found! Creating file with default message...\")\n",
        "    with open(filename, \"w\") as file:\n",
        "        file.write(\"No marks recorded\")"
      ],
      "metadata": {
        "colab": {
          "base_uri": "https://localhost:8080/"
        },
        "id": "Hh3-hFo5BJ6d",
        "outputId": "9d27397a-24ab-444f-ae19-3203e79114e6"
      },
      "execution_count": 12,
      "outputs": [
        {
          "output_type": "stream",
          "name": "stdout",
          "text": [
            "Enter the filename: file.write\n",
            "File content:\n",
            " No marks recorded\n"
          ]
        }
      ]
    },
    {
      "cell_type": "markdown",
      "source": [
        "Task-4"
      ],
      "metadata": {
        "id": "nubEqv07BgNd"
      }
    },
    {
      "cell_type": "code",
      "source": [
        "try:\n",
        "    num1 = float(input(\"Enter first number: \"))\n",
        "    num2 = float(input(\"Enter second number: \"))\n",
        "    result = num1 / num2\n",
        "\n",
        "    with open(\"division_log.txt\", \"w\") as file:\n",
        "        file.write(f\"Division of {num1} / {num2} = {result}\\n\")\n",
        "\n",
        "    print(\"Division successful! Result saved to division_log.txt\")\n",
        "\n",
        "except ValueError:\n",
        "    print(\"Invalid input! Please enter numeric values.\")\n",
        "except ZeroDivisionError:\n",
        "    print(\"Error! Division by zero is not allowed.\")"
      ],
      "metadata": {
        "colab": {
          "base_uri": "https://localhost:8080/"
        },
        "id": "jGZWJ5eyBiMF",
        "outputId": "b1723190-4106-4a5c-d0c4-35e7af402bc1"
      },
      "execution_count": 16,
      "outputs": [
        {
          "output_type": "stream",
          "name": "stdout",
          "text": [
            "Enter first number: 7485.4375\n",
            "Enter second number: 2352387.237865\n",
            "Division successful! Result saved to division_log.txt\n"
          ]
        }
      ]
    },
    {
      "cell_type": "markdown",
      "source": [
        "Task-5"
      ],
      "metadata": {
        "id": "4sVZ339-Bz09"
      }
    },
    {
      "cell_type": "code",
      "source": [
        "import datetime\n",
        "\n",
        "def log_error(error_message):\n",
        "    with open(\"error_log.txt\", \"a\") as log_file:\n",
        "        timestamp = datetime.datetime.now().strftime(\"%Y-%m-%d %H:%M:%S\")\n",
        "        log_file.write(f\"[{timestamp}] ERROR: {error_message}\\n\")\n",
        "\n",
        "\n",
        "    print(f\"Email Alert: An error occurred -> {error_message}\")\n",
        "\n",
        "\n",
        "try:\n",
        "    x = 10 / 0   # Force an error\n",
        "except Exception as e:\n",
        "    log_error(str(e))"
      ],
      "metadata": {
        "colab": {
          "base_uri": "https://localhost:8080/"
        },
        "id": "WMbOXpOUB1ru",
        "outputId": "ab175337-28ba-41e6-93ce-960855ea0d23"
      },
      "execution_count": 17,
      "outputs": [
        {
          "output_type": "stream",
          "name": "stdout",
          "text": [
            "Email Alert: An error occurred -> division by zero\n"
          ]
        }
      ]
    }
  ]
}